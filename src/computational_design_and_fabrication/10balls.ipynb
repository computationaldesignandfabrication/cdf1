{
 "cells": [
  {
   "cell_type": "code",
   "execution_count": 11,
   "id": "d2efcd0a",
   "metadata": {},
   "outputs": [],
   "source": []
  },
  {
   "cell_type": "code",
   "execution_count": 5,
   "id": "0ad05454",
   "metadata": {},
   "outputs": [],
   "source": [
    "import random, pygame as pg, pygamebg\n",
    "import math\n",
    "(width, height) = (500, 300)\n",
    "canvas = pygamebg.open_window(width, height, \"Balls\")\n",
    "\n",
    "balls = []\n",
    "timet=0\n",
    "for i in range(10):\n",
    "    r = 30\n",
    "    x = i*50 +30\n",
    "    y = 150\n",
    "    color = (255-i*5,255-i*4,255-i*6)\n",
    "    freq = i+1\n",
    "    dx, dy = 0, 0\n",
    "    balls.append((x, y, dx, dy, r, color, freq))\n",
    "    \n",
    "def new_frame():\n",
    "    global balls\n",
    "    global timet\n",
    "    for i in range(10):\n",
    "        x, y, dx, dy, r, color, freq = balls[i]\n",
    "        timet=timet+1\n",
    "        dy=((i+5)/2)*math.cos(freq*timet/360)\n",
    "        (x, y) = (x + dx, y + dy)\n",
    "        balls[i] = (x, y, dx, dy, r, color, freq)\n",
    "    canvas.fill(pg.Color(\"darkgray\"))\n",
    "    for x, y, dx, dy, r, color, freq in balls:\n",
    "        pg.draw.circle(canvas, color, (x, y), r, 12-freq)\n",
    "\n",
    "pygamebg.frame_loop(50, new_frame)\n"
   ]
  },
  {
   "cell_type": "code",
   "execution_count": null,
   "id": "9adf1523",
   "metadata": {},
   "outputs": [],
   "source": []
  },
  {
   "cell_type": "code",
   "execution_count": null,
   "id": "7edd4a86",
   "metadata": {},
   "outputs": [],
   "source": []
  },
  {
   "cell_type": "code",
   "execution_count": null,
   "id": "9b207fcd",
   "metadata": {},
   "outputs": [],
   "source": []
  }
 ],
 "metadata": {
  "kernelspec": {
   "display_name": "Python 3 (ipykernel)",
   "language": "python",
   "name": "python3"
  },
  "language_info": {
   "codemirror_mode": {
    "name": "ipython",
    "version": 3
   },
   "file_extension": ".py",
   "mimetype": "text/x-python",
   "name": "python",
   "nbconvert_exporter": "python",
   "pygments_lexer": "ipython3",
   "version": "3.11.5"
  }
 },
 "nbformat": 4,
 "nbformat_minor": 5
}
